{
 "cells": [
  {
   "cell_type": "code",
   "execution_count": null,
   "id": "6ee81048",
   "metadata": {},
   "outputs": [],
   "source": [
    "import pandas as pd\n",
    "import numpy as np\n",
    "import matplotlib.pyplot as plt\n",
    "import seaborn as sns\n",
    "from datetime import datetime, timedelta\n",
    "\n",
    "from calculations.common import (\n",
    "    prepare_data,\n",
    "    calculate_session_stats,\n",
    "    calculate_page_stats,\n",
    ")\n",
    "from calculations.web_traffic import (\n",
    "    aggregate_web_traffic_daily,\n",
    "    calculate_social_media_correlation,\n",
    "    aggregate_web_traffic_hourly,\n",
    "    aggregate_web_traffic_weekday,\n",
    ")\n",
    "from calculations.device_type import calculate_desktop_mobile_stats,plot_device_pie_chart\n",
    "from calculations.geolocation import aggregate_location, aggregate_location_per_day\n",
    "from calculations.motion import calculate_motion_stats, filter_motion_events"
   ]
  },
  {
   "cell_type": "code",
   "execution_count": null,
   "id": "65f42db9",
   "metadata": {},
   "outputs": [],
   "source": [
    "sns.set_theme(style=\"darkgrid\")\n",
    "colors = sns.color_palette('pastel')\n",
    "\n",
    "start_date = '2022-02-17'\n",
    "end_date = '2022-03-19'\n",
    "df_raw = pd.read_csv('data/event_data_20220217-20220319.csv')\n",
    "df_web = prepare_data(df_raw)\n",
    "df_unique_users = df_web.groupby(by=['fingerprint']).first().reset_index()\n",
    "\n",
    "df_facebook_reach = pd.read_csv('data/facebook_reach.csv', encoding = \"utf-8\")\n",
    "df_instagram_reach = pd.read_csv('data/instagram_reach.csv', encoding = \"utf-8\")\n",
    "\n",
    "df_facebook_pageviews = pd.read_csv('data/facebook_pageviews.csv', encoding = \"utf-8\")\n",
    "df_instagram_pageviews = pd.read_csv('data/instagram_pageviews.csv', encoding = \"utf-8\")\n"
   ]
  },
  {
   "cell_type": "code",
   "execution_count": null,
   "id": "87a02e9a",
   "metadata": {},
   "outputs": [],
   "source": [
    "# Web traffic data\n",
    "date_preproc = aggregate_web_traffic_daily(df_web)\n",
    "hour_preproc = aggregate_web_traffic_hourly(df_web)\n",
    "weekday_preproc = aggregate_web_traffic_weekday(date_preproc)\n",
    "session_stats_overall = calculate_session_stats(df_web)\n",
    "\n",
    "# Social media data\n",
    "social_media_correlation = calculate_social_media_correlation(\n",
    "    df_sessions_per_day=date_preproc['Sessioner'],\n",
    "    df_facebook_reach=df_facebook_reach,\n",
    "    df_facebook_pageviews=df_facebook_pageviews,\n",
    "    df_instagram_reach=df_instagram_reach,\n",
    "    df_instagram_pageviews=df_instagram_pageviews,\n",
    "    date_days=list(date_preproc['Datum'])\n",
    ")\n",
    "\n",
    "# Page data\n",
    "page_statistics = calculate_page_stats(df_web)\n",
    "\n",
    "# Device data\n",
    "desktop_events = df_web[\n",
    "    df_web.where((df_web[\"device_type\"] == \"desktop\")).device_type.notna()\n",
    "]\n",
    "mobile_events = df_web[\n",
    "    df_web.where((df_web[\"device_type\"] == \"mobile\")).device_type.notna()\n",
    "]\n",
    "desktop_mobile_stats = calculate_desktop_mobile_stats(df_web)\n",
    "\n",
    "# Geolocation data\n",
    "df_city_count = aggregate_location(df_unique_users, 'city', cut_off = 15)\n",
    "df_city_count_daily = aggregate_location_per_day(df_unique_users, 'city', df_city_count.index)\n",
    "\n",
    "df_country_count = aggregate_location(df_unique_users, 'country', cut_off = 7)\n",
    "df_country_count_daily = aggregate_location_per_day(df_unique_users, 'country', df_country_count.index)\n",
    "\n",
    "# Motion data\n",
    "df_motions = filter_motion_events(df_web)\n",
    "\n",
    "# Done \n",
    "print(f'\\nData för hemsidan under perioden {start_date} till {end_date}')"
   ]
  },
  {
   "cell_type": "markdown",
   "id": "b8c2f788",
   "metadata": {},
   "source": [
    "# Resultat\n",
    "\n",
    "Nedan följer statistik på trafik genom hemsidan (https://klimatriksdagen.se). Resultaten är baserad på tracking data som jag själv implementerat på hemsidan (varje gång en användare laddar en ny sida skickas information om vilket sida som laddades och liknande). Källkoden för den intresserade finns här: https://github.com/johanBlad/kr-22-web-analytics\n",
    "\n",
    "Resultaten är uppdelade i 6 delar, där varje del har ett antal frågeställningar knytna till sig, som jag försökt besvara genom den datan jag har.\n",
    "\n",
    "\n",
    "### [Website traffic](#Statistik-för-trafik-på-hemsidan-överlag)\n",
    "- How is total website traffic fluctuating by day and by week? \n",
    "- How is website sessions fluctuating by day and by week?\n",
    "- How many unique users visit the site by day and by week?\n",
    "- What is the ratio of one-event-sessions vs multiple-event-sessions?\n",
    "- What is the average number of page loads per session?\n",
    "- How long is average time on page?\n",
    "- How long is an average session (for sessions with more than one page load)?\n",
    "- How does website traffic fluctuate during the day on average?\n",
    "- How does website traffic fluctuate during the week on average?\n",
    "\n",
    "### [Page statistics](#Statistik-per-Sida-på-Hemsidan) \n",
    "- What pages are the most common start of each session?\n",
    "- What pages are the most common end of each session?\n",
    "- What pages have the longest read time?\n",
    "- What pages are most common visisted pages overall?\n",
    "- What pages are the most common visisted pages over sessions? \n",
    "- What pages are the most common visisted pages over unique users?\n",
    "- What ratio of sessions come in from Facebook\n",
    "- Of visitors coming from Facebook, what pages do they land on?\n",
    "\n",
    "### [Device type](#Statistik-på-hemsidan-mellan-Mobil-och-Webbläsare)\n",
    "- What is the distribution between desktop and mobile for overall events?\n",
    "- What is the distribution between desktop and mobile for sessions?\n",
    "- What is the distribution between desktop and mobile for unique users?\n",
    "- What is the ratio of one-event-sessions to multiple-event-sessions on desktop versus mobile?\n",
    "- What is the average number of events per session on desktop versus mobile?\n",
    "- How long is an average session (for sessions with more than one page load) on desktop versus mobile?\n",
    "- Page statistics as done above, but split between desktop and mobile\n",
    "\n",
    "### [Geolocation](#Geografisk-distribution-för-besökare-på-hemsidan)\n",
    "- How does the distribution of countries look like for unique users?\n",
    "- How does the distribution of cities look like for unique users?\n",
    "- When splitting distributions of cities in n top cities + others, how is this developing over time?\n",
    "\n",
    "\n",
    "### [Motion statistics](#Statistik-per-Motion-på-Hemsidan)\n",
    "- What motions are most common visisted motions overall?\n",
    "- What motions are the most common visisted motions over sessions? \n",
    "- What motions are the most common visisted motions over unique users? \n"
   ]
  },
  {
   "cell_type": "markdown",
   "id": "17ef03e5",
   "metadata": {},
   "source": [
    "# Statistik för trafik på hemsidan överlag"
   ]
  },
  {
   "cell_type": "markdown",
   "id": "22fe26f9",
   "metadata": {},
   "source": [
    "## Sidvisningar, Sessioner & Unika Besökare i snitt över datum\n",
    "**Sidvisningar (#):** Antalet totala sidvisningar på hemsidan över datum.\n",
    "\n",
    "**Sessioner (#):** Antalet totala sessioner på hemsidan över datum.\n",
    "\n",
    "*En session innefattar alla sidvisningar för en enskild besökare där det inte har gått längre än 30 minuter mellan två efterföljande sidvisningar. Om en besökare stannar på en sida under 31 minuter, för att sen går vidare till en annan sida på hemsidan, då startas en ny session. Sessioner som spänner mellan två dygn, alltså över midnatt, kapas vid midnatt och det blir istället två sessioner, en innan och en efter midnatt.*\n",
    "\n",
    "**Unika Besökare (#):** Antalet unika besökare på hemsidan varje dag."
   ]
  },
  {
   "cell_type": "code",
   "execution_count": null,
   "id": "61ff15b8",
   "metadata": {},
   "outputs": [],
   "source": [
    "fig, ax = plt.subplots(1,1,figsize=(15,8))\n",
    "sns.lineplot(x='Datum', y='value', hue='variable', data=pd.melt(\n",
    "    date_preproc.drop(columns=['Veckodag']), ['Datum']), ax=ax)\n",
    "plt.xticks(rotation=45); plt.ylabel('Antal')\n",
    "plt.show()"
   ]
  },
  {
   "cell_type": "markdown",
   "id": "57097e13",
   "metadata": {},
   "source": [
    "## Sidvisningar & Sessioner i snitt över veckodag"
   ]
  },
  {
   "cell_type": "code",
   "execution_count": null,
   "id": "8d1c4908",
   "metadata": {},
   "outputs": [],
   "source": [
    "fig, ax = plt.subplots(1,1,figsize=(15,8))\n",
    "sns.barplot(x='Veckodag', y='value', hue='variable', data=pd.melt(weekday_preproc, ['Veckodag']), ax=ax)\n",
    "plt.xticks(rotation=45); plt.ylabel('Snitt Antal')\n",
    "plt.show()"
   ]
  },
  {
   "cell_type": "markdown",
   "id": "e211cc10",
   "metadata": {},
   "source": [
    "## Sidvisningar & Sessioner i snitt över tid på dygnet"
   ]
  },
  {
   "cell_type": "code",
   "execution_count": null,
   "id": "994d22e5",
   "metadata": {},
   "outputs": [],
   "source": [
    "fig, ax = plt.subplots(1,1,figsize=(15,8))\n",
    "sns.barplot(x='Timme', y='value', hue='variable', data=pd.melt(hour_preproc, ['Timme']), ax=ax)\n",
    "plt.xticks(rotation=45); plt.ylabel('Snitt Antal')\n",
    "plt.show()"
   ]
  },
  {
   "cell_type": "markdown",
   "id": "b2980e96",
   "metadata": {},
   "source": [
    "## Antal Sidvisningar och Sidtid under Sessioner"
   ]
  },
  {
   "cell_type": "code",
   "execution_count": null,
   "id": "fa566348",
   "metadata": {},
   "outputs": [],
   "source": [
    "print(f\"\"\"\n",
    "Andel av sessioner där besökaren endast besökte en enskild sida:\\t {session_stats_overall['one_event_session_ratio']}%\n",
    "Antal sidor som besökare i snitt besöker under en session:\\t\\t {session_stats_overall['avg_events_per_session']} stycken\n",
    "Antal sidor som besökare i snitt besöker under sessioner med \n",
    "    fler än en sidvisning:\\t\\t\\t\\t\\t\\t {session_stats_overall['avg_events_per_multievent_sessions']} stycken\n",
    "\n",
    "Snitt-tid som besökare spenderar\n",
    "    på varje sida (median):\\t\\t\\t {session_stats_overall['median_time_per_page']} sekunder\n",
    "    på hemsidan under en session (median):\\t {session_stats_overall['median_session_time']} sekunder\n",
    "\"\"\")"
   ]
  },
  {
   "cell_type": "markdown",
   "id": "7fbdbef6",
   "metadata": {},
   "source": [
    "## Hemsida Sessioner korrelation Facebook\n",
    "Hur besökares sessioner på Hemsidan korrelerar (sammanfaller) med Räckvidd och Sidvisningar på Facebook"
   ]
  },
  {
   "cell_type": "code",
   "execution_count": null,
   "id": "bdc6b228",
   "metadata": {},
   "outputs": [],
   "source": [
    "fig, ax = plt.subplots(1,1,figsize=(15,8))\n",
    "sns.lineplot(x='Datum', y='value', hue='variable', data=pd.melt(social_media_correlation['facebook'], ['Datum']), ax=ax)\n",
    "plt.xticks(rotation=45); plt.ylabel('Intensitet')\n",
    "plt.show()"
   ]
  },
  {
   "cell_type": "markdown",
   "id": "562beb4f",
   "metadata": {},
   "source": [
    "## Hemsida Sessioner korrelation Instagram\n",
    "Hur besökares sessioner på Hemsidan korrelerar (sammanfaller) med Räckvidd och Sidvisningar på Instagram"
   ]
  },
  {
   "cell_type": "code",
   "execution_count": null,
   "id": "1eea08a0",
   "metadata": {},
   "outputs": [],
   "source": [
    "fig, ax = plt.subplots(1,1,figsize=(15,8))\n",
    "sns.lineplot(x='Datum', y='value', hue='variable', data=pd.melt(\n",
    "    social_media_correlation['instagram'], ['Datum']), ax=ax)\n",
    "plt.xticks(rotation=45); plt.ylabel('Intensitet')\n",
    "plt.show()"
   ]
  },
  {
   "cell_type": "markdown",
   "id": "c4c01ff9",
   "metadata": {},
   "source": [
    "# Statistik per Sida på Hemsidan\n",
    "\n",
    "**Sidtid (median sekunder):** Medianen av den tid som besökare i snitt spenderar på denna sidan.\n",
    "\n",
    "**Sidvisningar (#):** Antalet totala sidvisningar på denna sida.\n",
    "\n",
    "**Sessioner (#):** Antalet totala sessioner där besökaren besökte denna sidan under sessionen.\n",
    "\n",
    "**Unika Besökare (#):** Antalet unika besökare som har besökt denna sidan.\n",
    "\n",
    "**Från Facebook (#):** Hur många besök på denna sidan som kommit från en länk på Facebook\n",
    "\n",
    "**Första Sidan på Sessionen (#):** Antal gånger sidan har varit den första sidan som besökaren besökt som första sida under en session.\n",
    "\n",
    "**Sista Sidan på Sessionen (#):** Antal gånger sidan har varit den sista sidan som besökaren besökt innan besökaren avslutade sessionen (lämnade hemsidan).\n",
    "\n",
    "**Sannolikhet att Lämna Hemsidan: Beräknat (%):** Grovt uppskattad sannolikhet att det nästa användaren gör är att lämna hemsidan efter att ha besökt denna sida. Beräknat som `Sista Sidan på Sessionen / Sidvisningar` för varje sida."
   ]
  },
  {
   "cell_type": "code",
   "execution_count": null,
   "id": "f40b3a73",
   "metadata": {},
   "outputs": [],
   "source": [
    "page_statistics"
   ]
  },
  {
   "cell_type": "markdown",
   "id": "6354194d",
   "metadata": {},
   "source": [
    "# Statistik på hemsidan mellan Mobil och Webbläsare"
   ]
  },
  {
   "cell_type": "markdown",
   "id": "2e58c901",
   "metadata": {},
   "source": [
    "## Fördelning av besökare på Mobil och Webbläsare"
   ]
  },
  {
   "cell_type": "code",
   "execution_count": null,
   "id": "3076e257",
   "metadata": {},
   "outputs": [],
   "source": [
    "plot_device_pie_chart(desktop_mobile_stats)\n",
    "plt.show()\n",
    "desktop_mobile_stats\n"
   ]
  },
  {
   "cell_type": "markdown",
   "id": "2884b867",
   "metadata": {},
   "source": [
    "## Statistik per Sida på hemsidan för Webläsare "
   ]
  },
  {
   "cell_type": "code",
   "execution_count": null,
   "id": "ca3f7e29",
   "metadata": {},
   "outputs": [],
   "source": [
    "calculate_page_stats(desktop_events)"
   ]
  },
  {
   "cell_type": "markdown",
   "id": "5faecce9",
   "metadata": {},
   "source": [
    "## Statistik per Sida på hemsidan för Mobil "
   ]
  },
  {
   "cell_type": "code",
   "execution_count": null,
   "id": "c002ebea",
   "metadata": {},
   "outputs": [],
   "source": [
    "calculate_page_stats(mobile_events)"
   ]
  },
  {
   "cell_type": "markdown",
   "id": "e2d92654",
   "metadata": {},
   "source": [
    "# Geografisk distribution för besökare på hemsidan"
   ]
  },
  {
   "cell_type": "markdown",
   "id": "c5d952b2",
   "metadata": {},
   "source": [
    "## Besökare över stad"
   ]
  },
  {
   "cell_type": "code",
   "execution_count": null,
   "id": "eae144d7",
   "metadata": {},
   "outputs": [],
   "source": [
    "fig, ax = plt.subplots(1,1,figsize=(10,10))\n",
    "ax.pie(df_city_count['fingerprint'], labels = df_city_count.index , colors = colors[0:len(df_city_count)], autopct='%.0f%%')\n",
    "ax.set_title('Besökare över stad')\n",
    "plt.show()"
   ]
  },
  {
   "cell_type": "code",
   "execution_count": null,
   "id": "46df5e59",
   "metadata": {},
   "outputs": [],
   "source": [
    "fig, ax = plt.subplots(1,1,figsize=(15,8))\n",
    "sns.lineplot(x='date_day', y='value', hue='city', data=pd.melt(df_city_count_daily, ['city', 'date_day']), ax=ax)\n",
    "plt.xticks(rotation=45); plt.ylabel('Unika Besökare')\n",
    "plt.show()"
   ]
  },
  {
   "cell_type": "markdown",
   "id": "c374e168",
   "metadata": {},
   "source": [
    "## Besökare över land\n"
   ]
  },
  {
   "cell_type": "code",
   "execution_count": null,
   "id": "a8fd56d7",
   "metadata": {},
   "outputs": [],
   "source": [
    "fig, ax = plt.subplots(1,1,figsize=(10,10))\n",
    "ax.pie(df_country_count['fingerprint'], labels = df_country_count.index , colors = colors[0:len(df_country_count.index)], autopct='%.0f%%')\n",
    "ax.set_title('Besökare över land')\n",
    "plt.show()"
   ]
  },
  {
   "cell_type": "markdown",
   "id": "f37b665d",
   "metadata": {},
   "source": [
    "# Statistik per Motion på Hemsidan\n",
    "\n",
    "**Sidtid (median sekunder):** Medianen av den tid som besökare i snitt spenderar på denna sidan.\n",
    "\n",
    "**Sidvisningar (#):** Antalet totala sidvisningar för denna motion.\n",
    "\n",
    "**Sessioner (#):** Antalet totala sessioner där besökaren besökte denna motion under sessionen.\n",
    "\n",
    "**Unika Besökare (#):** Antalet unika besökare som har besökt denna motion.\n"
   ]
  },
  {
   "cell_type": "code",
   "execution_count": null,
   "id": "621eeee2",
   "metadata": {},
   "outputs": [],
   "source": [
    "calculate_motion_stats(df_motions)[:20]"
   ]
  },
  {
   "cell_type": "code",
   "execution_count": null,
   "id": "daedb79d",
   "metadata": {},
   "outputs": [],
   "source": []
  }
 ],
 "metadata": {
  "kernelspec": {
   "display_name": "Python 3 (ipykernel)",
   "language": "python",
   "name": "python3"
  },
  "language_info": {
   "codemirror_mode": {
    "name": "ipython",
    "version": 3
   },
   "file_extension": ".py",
   "mimetype": "text/x-python",
   "name": "python",
   "nbconvert_exporter": "python",
   "pygments_lexer": "ipython3",
   "version": "3.9.10"
  }
 },
 "nbformat": 4,
 "nbformat_minor": 5
}
