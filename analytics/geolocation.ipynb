{
 "cells": [
  {
   "cell_type": "code",
   "execution_count": null,
   "id": "0a94784b",
   "metadata": {},
   "outputs": [],
   "source": [
    "import pandas as pd\n",
    "import numpy as np\n",
    "import matplotlib.pyplot as plt\n",
    "import seaborn as sns\n",
    "from typing import List, Dict\n",
    "from datetime import datetime, timedelta\n",
    "from calculations.geolocation import aggregate_location, aggregate_location_per_day\n",
    "\n",
    "sns.set_theme(style=\"darkgrid\")\n",
    "colors = sns.color_palette('pastel')"
   ]
  },
  {
   "cell_type": "code",
   "execution_count": null,
   "id": "880bc6cb",
   "metadata": {},
   "outputs": [],
   "source": [
    "start_date = '2022-02-17'\n",
    "end_date = '2022-03-16'\n",
    "\n",
    "df_web = pd.read_csv('data/event_data_20220217-20220316.csv')\n",
    "df_unique_users = df_web.groupby(by=['fingerprint']).first().reset_index()\n",
    "\n",
    "df_city_count = aggregate_location(df_unique_users, 'city', cut_off = 15)\n",
    "df_city_count_daily = aggregate_location_per_day(df_unique_users, 'city', df_city_count.index)\n",
    "\n",
    "df_country_count = aggregate_location(df_unique_users, 'country', cut_off = 7)\n",
    "df_country_count_daily = aggregate_location_per_day(df_unique_users, 'country', df_country_count.index)"
   ]
  },
  {
   "cell_type": "markdown",
   "id": "4564fdbd",
   "metadata": {},
   "source": [
    "# Resultat"
   ]
  },
  {
   "cell_type": "code",
   "execution_count": null,
   "id": "ebf7aa2c",
   "metadata": {},
   "outputs": [],
   "source": [
    "print(f'Geo-data för hemsidan under perioden {start_date} till {end_date}')"
   ]
  },
  {
   "cell_type": "markdown",
   "id": "b1de431d",
   "metadata": {},
   "source": [
    "# Besökare över stad"
   ]
  },
  {
   "cell_type": "code",
   "execution_count": null,
   "id": "46cd51fc",
   "metadata": {},
   "outputs": [],
   "source": [
    "fig, ax = plt.subplots(1,1,figsize=(10,10))\n",
    "ax.pie(df_city_count['fingerprint'], labels = df_city_count.index , colors = colors[0:len(df_city_count)], autopct='%.0f%%')\n",
    "ax.set_title('Besökare över stad')\n",
    "plt.show()"
   ]
  },
  {
   "cell_type": "code",
   "execution_count": null,
   "id": "fb3622b5",
   "metadata": {},
   "outputs": [],
   "source": [
    "fig, ax = plt.subplots(1,1,figsize=(15,15))\n",
    "sns.lineplot(x='date_day', y='value', hue='city', data=pd.melt(df_city_count_daily, ['city', 'date_day']), ax=ax)\n",
    "plt.xticks(rotation=45); plt.ylabel('Unika Besökare')\n",
    "plt.show()"
   ]
  },
  {
   "cell_type": "markdown",
   "id": "92968107",
   "metadata": {},
   "source": [
    "# Besökare över land"
   ]
  },
  {
   "cell_type": "code",
   "execution_count": null,
   "id": "60ffc2c5",
   "metadata": {},
   "outputs": [],
   "source": [
    "fig, ax = plt.subplots(1,1,figsize=(10,10))\n",
    "ax.pie(df_country_combined['event_id'], labels = df_country_combined.index , colors = colors[0:len(df_country_combined.index)], autopct='%.0f%%')\n",
    "ax.set_title('Besökare över land')\n",
    "plt.show()"
   ]
  },
  {
   "cell_type": "code",
   "execution_count": null,
   "id": "45a28ac1",
   "metadata": {},
   "outputs": [],
   "source": [
    "fig, ax = plt.subplots(1,1,figsize=(15,15))\n",
    "sns.lineplot(x='date_day', y='value', hue='country', data=pd.melt(df_country_count_daily, ['country', 'date_day']), ax=ax)\n",
    "plt.xticks(rotation=45); plt.ylabel('Unika Besökare')\n",
    "plt.show()"
   ]
  },
  {
   "cell_type": "code",
   "execution_count": null,
   "id": "d65bde93",
   "metadata": {},
   "outputs": [],
   "source": []
  }
 ],
 "metadata": {
  "kernelspec": {
   "display_name": "Python 3 (ipykernel)",
   "language": "python",
   "name": "python3"
  },
  "language_info": {
   "codemirror_mode": {
    "name": "ipython",
    "version": 3
   },
   "file_extension": ".py",
   "mimetype": "text/x-python",
   "name": "python",
   "nbconvert_exporter": "python",
   "pygments_lexer": "ipython3",
   "version": "3.9.10"
  }
 },
 "nbformat": 4,
 "nbformat_minor": 5
}
