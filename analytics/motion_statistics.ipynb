{
 "cells": [
  {
   "cell_type": "code",
   "execution_count": null,
   "id": "c9ea584e",
   "metadata": {},
   "outputs": [],
   "source": [
    "import pandas as pd\n",
    "from typing import Iterable, Dict, List, Tuple\n",
    "from IPython.display import display\n",
    "\n",
    "from calculations.motion import calculate_motion_stats, filter_motion_events\n",
    "from calculations.common import prepare_data"
   ]
  },
  {
   "cell_type": "code",
   "execution_count": null,
   "id": "64714bc3",
   "metadata": {},
   "outputs": [],
   "source": [
    "\n",
    "start_date = '2022-02-17'\n",
    "end_date = '2022-03-16'\n",
    "df_raw = pd.read_csv('data/event_data_20220217-20220314.csv')\n",
    "df_web = prepare_data(df_raw)\n",
    "\n",
    "df_motions = filter_motion_events(df_web)"
   ]
  },
  {
   "cell_type": "markdown",
   "id": "8b731802",
   "metadata": {},
   "source": [
    "# Statistik per Motion på Hemsidan\n",
    "\n",
    "**Sidtid (median sekunder):** Medianen av den tid som besökare i snitt spenderar på denna sidan.\n",
    "\n",
    "**Sidvisningar (#):** Antalet totala sidvisningar för denna motion.\n",
    "\n",
    "**Sessioner (#):** Antalet totala sessioner där besökaren besökte denna motion under sessionen.\n",
    "\n",
    "**Unika Besökare (#):** Antalet unika besökare som har besökt denna motion.\n"
   ]
  },
  {
   "cell_type": "code",
   "execution_count": null,
   "id": "c2bcda57",
   "metadata": {},
   "outputs": [],
   "source": [
    "calculate_motion_stats(df_motions)"
   ]
  },
  {
   "cell_type": "code",
   "execution_count": null,
   "id": "b5dd57b2",
   "metadata": {},
   "outputs": [],
   "source": []
  },
  {
   "cell_type": "code",
   "execution_count": null,
   "id": "8e097160",
   "metadata": {},
   "outputs": [],
   "source": []
  },
  {
   "cell_type": "code",
   "execution_count": null,
   "id": "3ac4af64",
   "metadata": {},
   "outputs": [],
   "source": []
  }
 ],
 "metadata": {
  "kernelspec": {
   "display_name": "Python 3 (ipykernel)",
   "language": "python",
   "name": "python3"
  },
  "language_info": {
   "codemirror_mode": {
    "name": "ipython",
    "version": 3
   },
   "file_extension": ".py",
   "mimetype": "text/x-python",
   "name": "python",
   "nbconvert_exporter": "python",
   "pygments_lexer": "ipython3",
   "version": "3.9.10"
  }
 },
 "nbformat": 4,
 "nbformat_minor": 5
}
