{
 "cells": [
  {
   "cell_type": "code",
   "execution_count": null,
   "id": "19842358",
   "metadata": {},
   "outputs": [],
   "source": [
    "import pandas as pd\n",
    "import numpy as np\n",
    "import matplotlib.pyplot as plt\n",
    "import seaborn as sns\n",
    "import json\n",
    "from typing import List, Dict\n",
    "from datetime import datetime, timedelta\n",
    "sns.set_theme(style=\"darkgrid\")\n",
    "from calculations.common import (\n",
    "    prepare_data,\n",
    "    calculate_session_stats\n",
    ")\n",
    "from calculations.web_traffic import (\n",
    "    aggregate_web_traffic_daily,\n",
    "    calculate_social_media_correlation,\n",
    "    aggregate_web_traffic_hourly,\n",
    "    aggregate_web_traffic_weekday\n",
    ")"
   ]
  },
  {
   "cell_type": "code",
   "execution_count": null,
   "id": "7f5b354c",
   "metadata": {},
   "outputs": [],
   "source": [
    "start_date = '2022-02-17'\n",
    "end_date = '2022-03-16'\n",
    "df_raw = pd.read_csv('data/event_data_20220217-20220316.csv')\n",
    "df_web = prepare_data(df_raw)\n",
    "\n",
    "\n",
    "df_facebook_reach = pd.read_csv('data/facebook_reach.csv', encoding = \"utf-8\")\n",
    "df_instagram_reach = pd.read_csv('data/instagram_reach.csv', encoding = \"utf-8\")\n",
    "\n",
    "df_facebook_pageviews = pd.read_csv('data/facebook_pageviews.csv', encoding = \"utf-8\")\n",
    "df_instagram_pageviews = pd.read_csv('data/instagram_pageviews.csv', encoding = \"utf-8\")\n"
   ]
  },
  {
   "cell_type": "code",
   "execution_count": null,
   "id": "89906ba1",
   "metadata": {},
   "outputs": [],
   "source": [
    "date_preproc = aggregate_web_traffic_daily(df_web)\n",
    "hour_preproc = aggregate_web_traffic_hourly(df_web)\n",
    "weekday_preproc = aggregate_web_traffic_weekday(date_preproc)\n",
    "session_stats = calculate_session_stats(df_web)"
   ]
  },
  {
   "cell_type": "code",
   "execution_count": null,
   "id": "1ad4964b",
   "metadata": {},
   "outputs": [],
   "source": [
    "social_media_correlation = calculate_social_media_correlation(\n",
    "    df_sessions_per_day=date_preproc['Sessioner'],\n",
    "    df_facebook_reach=df_facebook_reach,\n",
    "    df_facebook_pageviews=df_facebook_pageviews,\n",
    "    df_instagram_reach=df_instagram_reach,\n",
    "    df_instagram_pageviews=df_instagram_pageviews,\n",
    "    date_days=list(date_preproc['Datum'])\n",
    ")"
   ]
  },
  {
   "cell_type": "markdown",
   "id": "d0127e1c",
   "metadata": {},
   "source": [
    "# Resultat"
   ]
  },
  {
   "cell_type": "code",
   "execution_count": null,
   "id": "ac829a90",
   "metadata": {},
   "outputs": [],
   "source": [
    "print(f'Trafikdata för hemsidan under perioden {start_date} till {end_date}')"
   ]
  },
  {
   "cell_type": "markdown",
   "id": "04dbd69e",
   "metadata": {},
   "source": [
    "# Sidvisningar, Sessioner & Unika Besökare i snitt över datum\n",
    "**Sidvisningar (#):** Antalet totala sidvisningar på hemsidan över datum.\n",
    "\n",
    "**Sessioner (#):** Antalet totala sessioner på hemsidan över datum.\n",
    "\n",
    "*En session innefattar alla sidvisningar för en enskild besökare där det inte har gått längre än 30 minuter mellan två efterföljande sidvisningar. Om en besökare stannar på en sida under 31 minuter, för att sen går vidare till en annan sida på hemsidan, då startas en ny session. Sessioner som spänner mellan två dygn, alltså över midnatt, kapas vid midnatt och det blir istället två sessioner, en innan och en efter midnatt.*\n",
    "\n",
    "**Unika Besökare (#):** Antalet unika besökare på hemsidan varje dag."
   ]
  },
  {
   "cell_type": "code",
   "execution_count": null,
   "id": "c5dd87c6",
   "metadata": {},
   "outputs": [],
   "source": [
    "fig, ax = plt.subplots(1,1,figsize=(15,8))\n",
    "sns.lineplot(x='Datum', y='value', hue='variable', data=pd.melt(\n",
    "    date_preproc.drop(columns=['Veckodag']), ['Datum']), ax=ax)\n",
    "plt.xticks(rotation=45); plt.ylabel('Antal')\n",
    "plt.show()"
   ]
  },
  {
   "cell_type": "markdown",
   "id": "4119c3fc",
   "metadata": {},
   "source": [
    "# Sidvisningar & Sessioner i snitt över veckodag"
   ]
  },
  {
   "cell_type": "code",
   "execution_count": null,
   "id": "68c4d67d",
   "metadata": {},
   "outputs": [],
   "source": [
    "fig, ax = plt.subplots(1,1,figsize=(15,8))\n",
    "sns.barplot(x='Veckodag', y='value', hue='variable', data=pd.melt(weekday_preproc, ['Veckodag']), ax=ax)\n",
    "plt.xticks(rotation=45); plt.ylabel('Snitt Antal')\n",
    "plt.show()"
   ]
  },
  {
   "cell_type": "markdown",
   "id": "34bf87ac",
   "metadata": {},
   "source": [
    "# Sidvisningar & Sessioner i snitt över tid på dygnet"
   ]
  },
  {
   "cell_type": "code",
   "execution_count": null,
   "id": "b592b0fe",
   "metadata": {},
   "outputs": [],
   "source": [
    "fig, ax = plt.subplots(1,1,figsize=(15,8))\n",
    "sns.barplot(x='Timme', y='value', hue='variable', data=pd.melt(hour_preproc, ['Timme']), ax=ax)\n",
    "plt.xticks(rotation=45); plt.ylabel('Snitt Antal')\n",
    "plt.show()"
   ]
  },
  {
   "cell_type": "markdown",
   "id": "db44a782",
   "metadata": {},
   "source": [
    "# Antal Sidvisningar och Sid-tid under Sessioner"
   ]
  },
  {
   "cell_type": "code",
   "execution_count": null,
   "id": "a200371a",
   "metadata": {},
   "outputs": [],
   "source": [
    "session_stats"
   ]
  },
  {
   "cell_type": "code",
   "execution_count": null,
   "id": "2c65875b",
   "metadata": {},
   "outputs": [],
   "source": [
    "print(f\"\"\"\n",
    "Andel av sessioner där besökaren endast besökte en enskild sida:\\t {session_stats['one_event_session_ratio']}%\n",
    "Antal sidor som besökare i snitt besöker under en session:\\t\\t {session_stats['avg_events_per_session']} stycken\n",
    "Antal sidor som besökare i snitt besöker under sessioner med \n",
    "    fler än en sidvisning:\\t\\t\\t\\t\\t\\t {session_stats['avg_events_per_multievent_sessions']} stycken\n",
    "\n",
    "Snitt-tid som besökare spenderar\n",
    "    på varje sida (median):\\t\\t\\t {session_stats['median_time_per_page']} sekunder\n",
    "    på hemsidan under en session (median):\\t {session_stats['median_session_time']} sekunder\n",
    "\"\"\")"
   ]
  },
  {
   "cell_type": "markdown",
   "id": "11212ef0",
   "metadata": {},
   "source": [
    "# Hemsida Sessioner korrelation Facebook\n",
    "Hur besökares sessioner på Hemsidan korrelerar (sammanfaller) med Räckvidd och Sidvisningar på Facebook"
   ]
  },
  {
   "cell_type": "code",
   "execution_count": null,
   "id": "a3444bcc",
   "metadata": {},
   "outputs": [],
   "source": [
    "fig, ax = plt.subplots(1,1,figsize=(15,8))\n",
    "sns.lineplot(x='Datum', y='value', hue='variable', data=pd.melt(social_media_correlation['facebook'], ['Datum']), ax=ax)\n",
    "plt.xticks(rotation=45); plt.ylabel('Intensitet')\n",
    "plt.show()"
   ]
  },
  {
   "cell_type": "markdown",
   "id": "e0f9748a",
   "metadata": {},
   "source": [
    "# Hemsida Sessioner korrelation Instagram\n",
    "Hur besökares sessioner på Hemsidan korrelerar (sammanfaller) med Räckvidd och Sidvisningar på Instagram"
   ]
  },
  {
   "cell_type": "code",
   "execution_count": null,
   "id": "1a724df5",
   "metadata": {},
   "outputs": [],
   "source": [
    "fig, ax = plt.subplots(1,1,figsize=(15,8))\n",
    "sns.lineplot(x='Datum', y='value', hue='variable', data=pd.melt(\n",
    "    social_media_correlation['instagram'], ['Datum']), ax=ax)\n",
    "plt.xticks(rotation=45); plt.ylabel('Intensitet')\n",
    "plt.show()"
   ]
  },
  {
   "cell_type": "code",
   "execution_count": null,
   "id": "58a5a796",
   "metadata": {},
   "outputs": [],
   "source": []
  },
  {
   "cell_type": "code",
   "execution_count": null,
   "id": "2c24560f",
   "metadata": {},
   "outputs": [],
   "source": []
  },
  {
   "cell_type": "code",
   "execution_count": null,
   "id": "6b9f2ec8",
   "metadata": {},
   "outputs": [],
   "source": []
  }
 ],
 "metadata": {
  "kernelspec": {
   "display_name": "Python 3 (ipykernel)",
   "language": "python",
   "name": "python3"
  },
  "language_info": {
   "codemirror_mode": {
    "name": "ipython",
    "version": 3
   },
   "file_extension": ".py",
   "mimetype": "text/x-python",
   "name": "python",
   "nbconvert_exporter": "python",
   "pygments_lexer": "ipython3",
   "version": "3.9.10"
  }
 },
 "nbformat": 4,
 "nbformat_minor": 5
}
