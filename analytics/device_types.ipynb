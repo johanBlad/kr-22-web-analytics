{
 "cells": [
  {
   "cell_type": "code",
   "execution_count": null,
   "id": "ec3ea5be",
   "metadata": {},
   "outputs": [],
   "source": [
    "import pandas as pd\n",
    "import numpy as np\n",
    "import matplotlib.pyplot as plt\n",
    "import seaborn as sns\n",
    "from typing import List, Dict, Iterable\n",
    "from datetime import datetime, timedelta\n",
    "sns.set_theme(style=\"darkgrid\")\n",
    "colors = sns.color_palette('pastel')\n",
    "\n",
    "from calculations.common import (\n",
    "    prepare_data,\n",
    "    calculate_page_stats,\n",
    "    calculate_session_stats\n",
    ")\n",
    "from calculations.device_type import calculate_desktop_mobile_stats,plot_device_pie_chart"
   ]
  },
  {
   "cell_type": "code",
   "execution_count": null,
   "id": "ec1b640d",
   "metadata": {},
   "outputs": [],
   "source": [
    "# SETUP\n",
    "\n",
    "start_date = '2022-02-17'\n",
    "end_date = '2022-03-16'\n",
    "df_raw = pd.read_csv('data/event_data_20220217-20220314.csv')\n",
    "df_web = prepare_data(df_raw)\n",
    "desktop_events = df_web[\n",
    "    df_web.where((df_web[\"device_type\"] == \"desktop\")).device_type.notna()\n",
    "]\n",
    "mobile_events = df_web[\n",
    "    df_web.where((df_web[\"device_type\"] == \"mobile\")).device_type.notna()\n",
    "]\n",
    "\n",
    "desktop_mobile_stats = calculate_desktop_mobile_stats(df_web)"
   ]
  },
  {
   "cell_type": "markdown",
   "id": "63ab7fe2",
   "metadata": {},
   "source": [
    "# Fördelning av besökare på Mobil och Webbläsare"
   ]
  },
  {
   "cell_type": "code",
   "execution_count": null,
   "id": "2c556fb7",
   "metadata": {},
   "outputs": [],
   "source": [
    "plot_device_pie_chart(desktop_mobile_stats)\n",
    "plt.show()\n",
    "desktop_mobile_stats\n"
   ]
  },
  {
   "cell_type": "markdown",
   "id": "7a803445",
   "metadata": {},
   "source": [
    "# Statistik per Sida på hemsidan för Webläsare "
   ]
  },
  {
   "cell_type": "code",
   "execution_count": null,
   "id": "2e33c739",
   "metadata": {},
   "outputs": [],
   "source": [
    "calculate_page_stats(desktop_events)"
   ]
  },
  {
   "cell_type": "markdown",
   "id": "1edc68e7",
   "metadata": {},
   "source": [
    "# Statistik per Sida på hemsidan för Mobil "
   ]
  },
  {
   "cell_type": "code",
   "execution_count": null,
   "id": "8f08e4c8",
   "metadata": {},
   "outputs": [],
   "source": [
    "calculate_page_stats(mobile_events)"
   ]
  },
  {
   "cell_type": "code",
   "execution_count": null,
   "id": "819db52d",
   "metadata": {},
   "outputs": [],
   "source": []
  },
  {
   "cell_type": "code",
   "execution_count": null,
   "id": "fc2039f6",
   "metadata": {},
   "outputs": [],
   "source": []
  },
  {
   "cell_type": "code",
   "execution_count": null,
   "id": "4a98b7a9",
   "metadata": {},
   "outputs": [],
   "source": []
  }
 ],
 "metadata": {
  "kernelspec": {
   "display_name": "Python 3 (ipykernel)",
   "language": "python",
   "name": "python3"
  },
  "language_info": {
   "codemirror_mode": {
    "name": "ipython",
    "version": 3
   },
   "file_extension": ".py",
   "mimetype": "text/x-python",
   "name": "python",
   "nbconvert_exporter": "python",
   "pygments_lexer": "ipython3",
   "version": "3.9.10"
  }
 },
 "nbformat": 4,
 "nbformat_minor": 5
}
