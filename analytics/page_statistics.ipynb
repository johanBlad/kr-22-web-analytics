{
 "cells": [
  {
   "cell_type": "code",
   "execution_count": null,
   "id": "6559865c",
   "metadata": {},
   "outputs": [],
   "source": [
    "import pandas as pd\n",
    "from typing import Iterable, Dict, List, Tuple\n",
    "from IPython.display import display\n",
    "from calculations.common import (\n",
    "    prepare_data,\n",
    "    calculate_page_stats,\n",
    "    calculate_session_stats\n",
    ")"
   ]
  },
  {
   "cell_type": "code",
   "execution_count": null,
   "id": "4d03964b",
   "metadata": {},
   "outputs": [],
   "source": [
    "start_date = '2022-02-17'\n",
    "end_date = '2022-03-16'\n",
    "df_raw = pd.read_csv('data/event_data_20220217-20220314.csv')\n",
    "df_web = prepare_data(df_raw)\n",
    "\n",
    "page_statistics = calculate_page_stats(df_web)"
   ]
  },
  {
   "cell_type": "code",
   "execution_count": null,
   "id": "5442c045",
   "metadata": {},
   "outputs": [],
   "source": [
    "# CALC: Hur många sessioner på hemsidan kommer från Facebook?\n",
    "\n",
    "sessions_from_fb_count = df_web.groupby(by='session_id') \\\n",
    "    .filter(lambda x: x.from_fb.sum() > 0) \\\n",
    "    .session_id.nunique()\n",
    "\n",
    "sessions_count = df_web.session_id.nunique()\n",
    "\n",
    "FACEBOOK_SESSION_RATIO = round(100*(sessions_from_fb_count/sessions_count), 2)"
   ]
  },
  {
   "cell_type": "markdown",
   "id": "e62ce39d",
   "metadata": {},
   "source": [
    "# Resultat"
   ]
  },
  {
   "cell_type": "code",
   "execution_count": null,
   "id": "0cc34356",
   "metadata": {},
   "outputs": [],
   "source": [
    "print(f'Sid-data för hemsidan under perioden {start_date} till {end_date}')"
   ]
  },
  {
   "cell_type": "markdown",
   "id": "786d29e5",
   "metadata": {},
   "source": [
    "# Statistik per Sida på Hemsidan\n",
    "\n",
    "**Sidtid (median sekunder):** Medianen av den tid som besökare i snitt spenderar på denna sidan.\n",
    "\n",
    "**Sidvisningar (#):** Antalet totala sidvisningar på denna sida.\n",
    "\n",
    "**Sessioner (#):** Antalet totala sessioner där besökaren besökte denna sidan under sessionen.\n",
    "\n",
    "**Unika Besökare (#):** Antalet unika besökare som har besökt denna sidan.\n",
    "\n",
    "**Från Facebook (#):** Hur många besök på denna sidan som kommit från en länk på Facebook\n",
    "\n",
    "**Första Sidan på Sessionen (#):** Antal gånger sidan har varit den första sidan som besökaren besökt som första sida under en session.\n",
    "\n",
    "**Sista Sidan på Sessionen (#):** Antal gånger sidan har varit den sista sidan som besökaren besökt innan besökaren avslutade sessionen (lämnade hemsidan).\n",
    "\n",
    "**Sannolikhet att Lämna Hemsidan: Beräknat (%):** Grovt uppskattad sannolikhet att det nästa användaren gör är att lämna hemsidan efter att ha besökt denna sida. Beräknat som `Sista Sidan på Sessionen / Sidvisningar` för varje sida."
   ]
  },
  {
   "cell_type": "code",
   "execution_count": null,
   "id": "fb0beb38",
   "metadata": {},
   "outputs": [],
   "source": [
    "page_statistics"
   ]
  },
  {
   "cell_type": "code",
   "execution_count": null,
   "id": "b9672068",
   "metadata": {},
   "outputs": [],
   "source": [
    "print(f'Procent av sessioner på hemsidan där användaren har kommit till hemsidan från en länk på Facebook: {FACEBOOK_SESSION_RATIO}%')"
   ]
  },
  {
   "cell_type": "code",
   "execution_count": null,
   "id": "6867fa7c",
   "metadata": {},
   "outputs": [],
   "source": []
  },
  {
   "cell_type": "code",
   "execution_count": null,
   "id": "f30d6035",
   "metadata": {},
   "outputs": [],
   "source": []
  }
 ],
 "metadata": {
  "kernelspec": {
   "display_name": "Python 3 (ipykernel)",
   "language": "python",
   "name": "python3"
  },
  "language_info": {
   "codemirror_mode": {
    "name": "ipython",
    "version": 3
   },
   "file_extension": ".py",
   "mimetype": "text/x-python",
   "name": "python",
   "nbconvert_exporter": "python",
   "pygments_lexer": "ipython3",
   "version": "3.9.10"
  }
 },
 "nbformat": 4,
 "nbformat_minor": 5
}
